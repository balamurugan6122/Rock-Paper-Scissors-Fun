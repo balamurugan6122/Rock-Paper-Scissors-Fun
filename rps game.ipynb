{
 "cells": [
  {
   "cell_type": "code",
   "execution_count": 8,
   "metadata": {},
   "outputs": [
    {
     "name": "stdout",
     "output_type": "stream",
     "text": [
      "Computer picked rock.\n",
      "you lost!\n",
      "Computer picked scissors.\n",
      "you won!\n",
      "you won 1 times.\n",
      "computer won 1 times.\n",
      "Goodbye!\n"
     ]
    }
   ],
   "source": [
    "import random\n",
    "\n",
    "user_wins = 0\n",
    "computer_wins = 0\n",
    "\n",
    "options = [\"rock\", \"paper\", \"scissors\"]\n",
    "options[0]\n",
    "\n",
    "while True:\n",
    "    user_input = input(\"Type Rock/Paper/Scissors or Q to quit: \").lower()\n",
    "    if user_input == \"q\":\n",
    "        break\n",
    "    if user_input not in options:\n",
    "        continue\n",
    "\n",
    "    random_number = random.randint(0,2)\n",
    "    # rock:0, paper:1, scissors:2\n",
    "    computer_pick = options[random_number]\n",
    "    print(\"Computer picked\",computer_pick + \".\")\n",
    "\n",
    "    if user_input == \"rock\" and computer_pick == \"scissors\":\n",
    "        print(\"you won!\")\n",
    "        user_wins += 1\n",
    "\n",
    "    elif user_input == \"paper\" and computer_pick == \"rock\":\n",
    "        print(\"you won!\")\n",
    "        user_wins +=1\n",
    "\n",
    "    elif user_input == \"scissors\" and computer_pick == \"paper\":\n",
    "        print(\"you won!\")\n",
    "        user_wins += 1\n",
    "\n",
    "    else:\n",
    "        print(\"you lost!\") \n",
    "        computer_wins += 1   \n",
    "\n",
    "print(\"you won\", user_wins, \"times.\")\n",
    "print(\"computer won\", computer_wins, \"times.\") \n",
    "print(\"Goodbye!\")       \n"
   ]
  }
 ],
 "metadata": {
  "kernelspec": {
   "display_name": "base",
   "language": "python",
   "name": "python3"
  },
  "language_info": {
   "codemirror_mode": {
    "name": "ipython",
    "version": 3
   },
   "file_extension": ".py",
   "mimetype": "text/x-python",
   "name": "python",
   "nbconvert_exporter": "python",
   "pygments_lexer": "ipython3",
   "version": "3.11.3"
  },
  "orig_nbformat": 4
 },
 "nbformat": 4,
 "nbformat_minor": 2
}
